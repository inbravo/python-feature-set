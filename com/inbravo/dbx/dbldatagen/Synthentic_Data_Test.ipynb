{
 "cells": [
  {
   "cell_type": "code",
   "execution_count": 1,
   "metadata": {},
   "outputs": [
    {
     "ename": "ModuleNotFoundError",
     "evalue": "No module named 'jmespath'",
     "output_type": "error",
     "traceback": [
      "\u001b[31m---------------------------------------------------------------------------\u001b[39m",
      "\u001b[31mModuleNotFoundError\u001b[39m                       Traceback (most recent call last)",
      "\u001b[36mCell\u001b[39m\u001b[36m \u001b[39m\u001b[32mIn[1]\u001b[39m\u001b[32m, line 7\u001b[39m\n\u001b[32m      5\u001b[39m \u001b[38;5;28;01mfrom\u001b[39;00m\u001b[38;5;250m \u001b[39m\u001b[34;01mpyspark\u001b[39;00m\u001b[34;01m.\u001b[39;00m\u001b[34;01msql\u001b[39;00m\u001b[38;5;250m \u001b[39m\u001b[38;5;28;01mimport\u001b[39;00m DataFrame\n\u001b[32m      6\u001b[39m \u001b[38;5;28;01mfrom\u001b[39;00m\u001b[38;5;250m \u001b[39m\u001b[34;01mpyspark\u001b[39;00m\u001b[34;01m.\u001b[39;00m\u001b[34;01msql\u001b[39;00m\u001b[38;5;250m \u001b[39m\u001b[38;5;28;01mimport\u001b[39;00m SparkSession\n\u001b[32m----> \u001b[39m\u001b[32m7\u001b[39m \u001b[38;5;28;01mfrom\u001b[39;00m\u001b[38;5;250m \u001b[39m\u001b[34;01mdbldatagen\u001b[39;00m\u001b[38;5;250m \u001b[39m\u001b[38;5;28;01mimport\u001b[39;00m DataGenerator\n\u001b[32m      9\u001b[39m \u001b[38;5;66;03m# Initialize Spark session\u001b[39;00m\n\u001b[32m     10\u001b[39m spark = SparkSession.builder \\\n\u001b[32m     11\u001b[39m     .appName(\u001b[33m\"\u001b[39m\u001b[33mSynthetic Data Test\u001b[39m\u001b[33m\"\u001b[39m) \\\n\u001b[32m     12\u001b[39m     .getOrCreate()\n",
      "\u001b[36mFile \u001b[39m\u001b[32m~/Documents/GitHub/python-feature-set/.venv/lib/python3.13/site-packages/dbldatagen/__init__.py:26\u001b[39m\n\u001b[32m      1\u001b[39m \u001b[38;5;66;03m#\u001b[39;00m\n\u001b[32m      2\u001b[39m \u001b[38;5;66;03m# Copyright (C) 2019 Databricks, Inc.\u001b[39;00m\n\u001b[32m      3\u001b[39m \u001b[38;5;66;03m#\u001b[39;00m\n\u001b[32m   (...)\u001b[39m\u001b[32m     14\u001b[39m \u001b[38;5;66;03m# limitations under the License.\u001b[39;00m\n\u001b[32m     15\u001b[39m \u001b[38;5;66;03m#\u001b[39;00m\n\u001b[32m     17\u001b[39m \u001b[33;03m\"\"\"\u001b[39;00m\n\u001b[32m     18\u001b[39m \u001b[33;03mThis module defines the package contents for the test data generator library\u001b[39;00m\n\u001b[32m     19\u001b[39m \n\u001b[32m   (...)\u001b[39m\u001b[32m     23\u001b[39m \u001b[33;03mMost of the other classes are used for internal purposes only\u001b[39;00m\n\u001b[32m     24\u001b[39m \u001b[33;03m\"\"\"\u001b[39;00m\n\u001b[32m---> \u001b[39m\u001b[32m26\u001b[39m \u001b[38;5;28;01mfrom\u001b[39;00m\u001b[38;5;250m \u001b[39m\u001b[34;01m.\u001b[39;00m\u001b[34;01mdata_generator\u001b[39;00m\u001b[38;5;250m \u001b[39m\u001b[38;5;28;01mimport\u001b[39;00m DataGenerator\n\u001b[32m     27\u001b[39m \u001b[38;5;28;01mfrom\u001b[39;00m\u001b[38;5;250m \u001b[39m\u001b[34;01m.\u001b[39;00m\u001b[34;01mdatagen_constants\u001b[39;00m\u001b[38;5;250m \u001b[39m\u001b[38;5;28;01mimport\u001b[39;00m DEFAULT_RANDOM_SEED, RANDOM_SEED_RANDOM, RANDOM_SEED_FIXED, \\\n\u001b[32m     28\u001b[39m                                RANDOM_SEED_HASH_FIELD_NAME, MIN_PYTHON_VERSION, MIN_SPARK_VERSION, \\\n\u001b[32m     29\u001b[39m                                INFER_DATATYPE, SPARK_DEFAULT_PARALLELISM\n\u001b[32m     30\u001b[39m \u001b[38;5;28;01mfrom\u001b[39;00m\u001b[38;5;250m \u001b[39m\u001b[34;01m.\u001b[39;00m\u001b[34;01mutils\u001b[39;00m\u001b[38;5;250m \u001b[39m\u001b[38;5;28;01mimport\u001b[39;00m ensure, topologicalSort, mkBoundsList, coalesce_values, \\\n\u001b[32m     31\u001b[39m     deprecated, parse_time_interval, DataGenError, split_list_matching_condition, strip_margins, \\\n\u001b[32m     32\u001b[39m     json_value_from_path, system_time_millis\n",
      "\u001b[36mFile \u001b[39m\u001b[32m~/Documents/GitHub/python-feature-set/.venv/lib/python3.13/site-packages/dbldatagen/data_generator.py:15\u001b[39m\n\u001b[32m     12\u001b[39m \u001b[38;5;28;01mfrom\u001b[39;00m\u001b[38;5;250m \u001b[39m\u001b[34;01mpyspark\u001b[39;00m\u001b[34;01m.\u001b[39;00m\u001b[34;01msql\u001b[39;00m\u001b[34;01m.\u001b[39;00m\u001b[34;01mtypes\u001b[39;00m\u001b[38;5;250m \u001b[39m\u001b[38;5;28;01mimport\u001b[39;00m LongType, IntegerType, StringType, StructType, StructField, DataType\n\u001b[32m     14\u001b[39m \u001b[38;5;28;01mfrom\u001b[39;00m\u001b[38;5;250m \u001b[39m\u001b[34;01m.\u001b[39;00m\u001b[34;01m_version\u001b[39;00m\u001b[38;5;250m \u001b[39m\u001b[38;5;28;01mimport\u001b[39;00m _get_spark_version\n\u001b[32m---> \u001b[39m\u001b[32m15\u001b[39m \u001b[38;5;28;01mfrom\u001b[39;00m\u001b[38;5;250m \u001b[39m\u001b[34;01m.\u001b[39;00m\u001b[34;01mcolumn_generation_spec\u001b[39;00m\u001b[38;5;250m \u001b[39m\u001b[38;5;28;01mimport\u001b[39;00m ColumnGenerationSpec\n\u001b[32m     16\u001b[39m \u001b[38;5;28;01mfrom\u001b[39;00m\u001b[38;5;250m \u001b[39m\u001b[34;01m.\u001b[39;00m\u001b[34;01mconstraints\u001b[39;00m\u001b[34;01m.\u001b[39;00m\u001b[34;01mconstraint\u001b[39;00m\u001b[38;5;250m \u001b[39m\u001b[38;5;28;01mimport\u001b[39;00m Constraint\n\u001b[32m     17\u001b[39m \u001b[38;5;28;01mfrom\u001b[39;00m\u001b[38;5;250m \u001b[39m\u001b[34;01m.\u001b[39;00m\u001b[34;01mconstraints\u001b[39;00m\u001b[34;01m.\u001b[39;00m\u001b[34;01msql_expr\u001b[39;00m\u001b[38;5;250m \u001b[39m\u001b[38;5;28;01mimport\u001b[39;00m SqlExpr\n",
      "\u001b[36mFile \u001b[39m\u001b[32m~/Documents/GitHub/python-feature-set/.venv/lib/python3.13/site-packages/dbldatagen/column_generation_spec.py:21\u001b[39m\n\u001b[32m     16\u001b[39m \u001b[38;5;28;01mimport\u001b[39;00m\u001b[38;5;250m \u001b[39m\u001b[34;01mpyspark\u001b[39;00m\u001b[34;01m.\u001b[39;00m\u001b[34;01msql\u001b[39;00m\u001b[34;01m.\u001b[39;00m\u001b[34;01mfunctions\u001b[39;00m\u001b[38;5;250m \u001b[39m\u001b[38;5;28;01mas\u001b[39;00m\u001b[38;5;250m \u001b[39m\u001b[34;01mF\u001b[39;00m\n\u001b[32m     18\u001b[39m \u001b[38;5;28;01mfrom\u001b[39;00m\u001b[38;5;250m \u001b[39m\u001b[34;01mpyspark\u001b[39;00m\u001b[34;01m.\u001b[39;00m\u001b[34;01msql\u001b[39;00m\u001b[34;01m.\u001b[39;00m\u001b[34;01mtypes\u001b[39;00m\u001b[38;5;250m \u001b[39m\u001b[38;5;28;01mimport\u001b[39;00m FloatType, IntegerType, StringType, DoubleType, BooleanType, \\\n\u001b[32m     19\u001b[39m     TimestampType, DataType, DateType, ArrayType, MapType, StructType\n\u001b[32m---> \u001b[39m\u001b[32m21\u001b[39m \u001b[38;5;28;01mfrom\u001b[39;00m\u001b[38;5;250m \u001b[39m\u001b[34;01m.\u001b[39;00m\u001b[34;01mcolumn_spec_options\u001b[39;00m\u001b[38;5;250m \u001b[39m\u001b[38;5;28;01mimport\u001b[39;00m ColumnSpecOptions\n\u001b[32m     22\u001b[39m \u001b[38;5;28;01mfrom\u001b[39;00m\u001b[38;5;250m \u001b[39m\u001b[34;01m.\u001b[39;00m\u001b[34;01mdatagen_constants\u001b[39;00m\u001b[38;5;250m \u001b[39m\u001b[38;5;28;01mimport\u001b[39;00m RANDOM_SEED_FIXED, RANDOM_SEED_HASH_FIELD_NAME, RANDOM_SEED_RANDOM, \\\n\u001b[32m     23\u001b[39m     DEFAULT_SEED_COLUMN, OPTION_RANDOM, OPTION_RANDOM_SEED, OPTION_RANDOM_SEED_METHOD, INFER_DATATYPE\n\u001b[32m     25\u001b[39m \u001b[38;5;28;01mfrom\u001b[39;00m\u001b[38;5;250m \u001b[39m\u001b[34;01m.\u001b[39;00m\u001b[34;01mdaterange\u001b[39;00m\u001b[38;5;250m \u001b[39m\u001b[38;5;28;01mimport\u001b[39;00m DateRange\n",
      "\u001b[36mFile \u001b[39m\u001b[32m~/Documents/GitHub/python-feature-set/.venv/lib/python3.13/site-packages/dbldatagen/column_spec_options.py:13\u001b[39m\n\u001b[32m      5\u001b[39m \u001b[33;03m\"\"\"\u001b[39;00m\n\u001b[32m      6\u001b[39m \u001b[33;03m.. title::Column Spec Options\u001b[39;00m\n\u001b[32m      7\u001b[39m \n\u001b[32m      8\u001b[39m \u001b[33;03mThis file defines the `ColumnSpecOptions` class\u001b[39;00m\n\u001b[32m      9\u001b[39m \u001b[33;03m\"\"\"\u001b[39;00m\n\u001b[32m     11\u001b[39m \u001b[38;5;28;01mimport\u001b[39;00m\u001b[38;5;250m \u001b[39m\u001b[34;01mcopy\u001b[39;00m\n\u001b[32m---> \u001b[39m\u001b[32m13\u001b[39m \u001b[38;5;28;01mfrom\u001b[39;00m\u001b[38;5;250m \u001b[39m\u001b[34;01m.\u001b[39;00m\u001b[34;01mutils\u001b[39;00m\u001b[38;5;250m \u001b[39m\u001b[38;5;28;01mimport\u001b[39;00m ensure\n\u001b[32m     16\u001b[39m \u001b[38;5;28;01mclass\u001b[39;00m\u001b[38;5;250m \u001b[39m\u001b[34;01mColumnSpecOptions\u001b[39;00m(\u001b[38;5;28mobject\u001b[39m):\n\u001b[32m     17\u001b[39m \u001b[38;5;250m    \u001b[39m\u001b[33;03m\"\"\" Column spec options object - manages options for column specs.\u001b[39;00m\n\u001b[32m     18\u001b[39m \n\u001b[32m     19\u001b[39m \u001b[33;03m    This class has limited functionality - mainly used to validate and document the options,\u001b[39;00m\n\u001b[32m   (...)\u001b[39m\u001b[32m    140\u001b[39m \n\u001b[32m    141\u001b[39m \u001b[33;03m    \"\"\"\u001b[39;00m\n",
      "\u001b[36mFile \u001b[39m\u001b[32m~/Documents/GitHub/python-feature-set/.venv/lib/python3.13/site-packages/dbldatagen/utils.py:18\u001b[39m\n\u001b[32m     15\u001b[39m \u001b[38;5;28;01mimport\u001b[39;00m\u001b[38;5;250m \u001b[39m\u001b[34;01mwarnings\u001b[39;00m\n\u001b[32m     16\u001b[39m \u001b[38;5;28;01mfrom\u001b[39;00m\u001b[38;5;250m \u001b[39m\u001b[34;01mdatetime\u001b[39;00m\u001b[38;5;250m \u001b[39m\u001b[38;5;28;01mimport\u001b[39;00m timedelta\n\u001b[32m---> \u001b[39m\u001b[32m18\u001b[39m \u001b[38;5;28;01mimport\u001b[39;00m\u001b[38;5;250m \u001b[39m\u001b[34;01mjmespath\u001b[39;00m\n\u001b[32m     21\u001b[39m \u001b[38;5;28;01mdef\u001b[39;00m\u001b[38;5;250m \u001b[39m\u001b[34mdeprecated\u001b[39m(message=\u001b[33m\"\u001b[39m\u001b[33m\"\u001b[39m):\n\u001b[32m     22\u001b[39m \u001b[38;5;250m    \u001b[39m\u001b[33;03m\"\"\"\u001b[39;00m\n\u001b[32m     23\u001b[39m \u001b[33;03m    Define a deprecated decorator without dependencies on 3rd party libraries\u001b[39;00m\n\u001b[32m     24\u001b[39m \n\u001b[32m     25\u001b[39m \u001b[33;03m    Note there is a 3rd party library called `deprecated` that provides this feature but goal is to only have\u001b[39;00m\n\u001b[32m     26\u001b[39m \u001b[33;03m    dependencies on packages already used in the Databricks runtime\u001b[39;00m\n\u001b[32m     27\u001b[39m \u001b[33;03m    \"\"\"\u001b[39;00m\n",
      "\u001b[31mModuleNotFoundError\u001b[39m: No module named 'jmespath'"
     ]
    }
   ],
   "source": [
    "# This script generates synthetic data using the Databricks dbldatagen library\n",
    "# and performs basic analysis on the generated data.\n",
    "# Ensure you have the dbldatagen library installed in your Databricks environment.\n",
    "# Import necessary libraries\n",
    "from pyspark.sql import DataFrame\n",
    "from pyspark.sql import SparkSession\n",
    "from dbldatagen import DataGenerator\n",
    "\n",
    "# Initialize Spark session\n",
    "spark = SparkSession.builder \\\n",
    "    .appName(\"Synthetic Data Test\") \\\n",
    "    .getOrCreate()\n",
    "\n",
    "def generate_synthetic_data(rows=1000, partitions=4):\n",
    "    \"\"\"\n",
    "    Function to generate synthetic data using Databricks dbldatagen.\n",
    "    \n",
    "    Args:\n",
    "        rows (int): Number of rows to generate.\n",
    "        partitions (int): Number of partitions for the generated data.\n",
    "    \n",
    "    Returns:\n",
    "        DataFrame: A Spark DataFrame containing the synthetic data.\n",
    "    \"\"\"\n",
    "    # Define the schema and data generation rules\n",
    "    data_spec = (DataGenerator(spark, name=\"synthetic_data\", rows=rows, partitions=partitions)\n",
    "                 .withIdOutput()\n",
    "                 .withColumn(\"name\", \"string\", values=[\"Alice\", \"Bob\", \"Charlie\", \"David\"])\n",
    "                 .withColumn(\"age\", \"integer\", minValue=18, maxValue=60)\n",
    "                 .withColumn(\"salary\", \"float\", minValue=30000, maxValue=120000)\n",
    "                 .withColumn(\"department\", \"string\", values=[\"HR\", \"Engineering\", \"Marketing\", \"Sales\"])\n",
    "                 .withColumn(\"join_date\", \"date\", begin=\"2020-01-01\", end=\"2023-12-31\"))\n",
    "\n",
    "    # Generate the synthetic data\n",
    "    synthetic_data = data_spec.build()\n",
    "    return synthetic_data\n",
    "\n",
    "def analyze_data(dataframe):\n",
    "    \"\"\"\n",
    "    Function to analyze the test data.\n",
    "    \n",
    "    Args:\n",
    "        dataframe (DataFrame): A Spark DataFrame to analyze.\n",
    "    \n",
    "    Returns:\n",
    "        None\n",
    "    \"\"\"\n",
    "    print(\"Schema of the DataFrame:\")\n",
    "    dataframe.printSchema()\n",
    "    \n",
    "    print(\"\\nSample Data:\")\n",
    "    dataframe.show(10, truncate=False)\n",
    "    \n",
    "    print(\"\\nSummary Statistics:\")\n",
    "    dataframe.describe().show()\n",
    "\n",
    "# Example usage\n",
    "if __name__ == \"__main__\":\n",
    "    # Generate synthetic data\n",
    "    synthetic_df = generate_synthetic_data(rows=1000, partitions=4)\n",
    "    \n",
    "    # Analyze the generated data\n",
    "    analyze_data(synthetic_df)"
   ]
  }
 ],
 "metadata": {
  "kernelspec": {
   "display_name": ".venv",
   "language": "python",
   "name": "python3"
  },
  "language_info": {
   "codemirror_mode": {
    "name": "ipython",
    "version": 3
   },
   "file_extension": ".py",
   "mimetype": "text/x-python",
   "name": "python",
   "nbconvert_exporter": "python",
   "pygments_lexer": "ipython3",
   "version": "3.13.2"
  }
 },
 "nbformat": 4,
 "nbformat_minor": 2
}
