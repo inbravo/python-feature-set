{
 "cells": [
  {
   "cell_type": "code",
   "execution_count": null,
   "metadata": {},
   "outputs": [
    {
     "name": "stderr",
     "output_type": "stream",
     "text": [
      "25/05/10 18:52:39 WARN SparkSession: Using an existing Spark session; only runtime SQL configurations will take effect.\n"
     ]
    },
    {
     "ename": "AnalysisException",
     "evalue": "[UNRESOLVED_COLUMN.WITH_SUGGESTION] A column or function parameter with name `Customer type` cannot be resolved. Did you mean one of the following? [`Customer_Type`, `City`, `Payment`, `Quantity`, `Unit_Price`].;\n'Aggregate ['Customer type, Gender#21], ['Customer type, Gender#21, sum(Total#26) AS Total_Spending#192]\n+- Project [Invoice_ID#17, Branch#18, City#19, Customer_Type#20, Gender#21, Product_Line#22, Unit_Price#23, Quantity#24, Tax_5%#25, Total#26, Date#51, Time#70, Payment#29, cogs#30, Gross_Margin_Percentage#31, Gross_Income#32, Rating#33, Hour#88, dayofweek(Date#51) AS Day_of_Week#107]\n   +- Project [Invoice_ID#17, Branch#18, City#19, Customer_Type#20, Gender#21, Product_Line#22, Unit_Price#23, Quantity#24, Tax_5%#25, Total#26, Date#51, Time#70, Payment#29, cogs#30, Gross_Margin_Percentage#31, Gross_Income#32, Rating#33, hour(Time#70, Some(Europe/London)) AS Hour#88]\n      +- Project [Invoice_ID#17, Branch#18, City#19, Customer_Type#20, Gender#21, Product_Line#22, Unit_Price#23, Quantity#24, Tax_5%#25, Total#26, Date#51, to_timestamp(Time#28, Some(HH:mm), TimestampType, Some(Europe/London), false) AS Time#70, Payment#29, cogs#30, Gross_Margin_Percentage#31, Gross_Income#32, Rating#33]\n         +- Project [Invoice_ID#17, Branch#18, City#19, Customer_Type#20, Gender#21, Product_Line#22, Unit_Price#23, Quantity#24, Tax_5%#25, Total#26, to_date(Date#27, Some(M/d/yyyy), Some(Europe/London), false) AS Date#51, Time#28, Payment#29, cogs#30, Gross_Margin_Percentage#31, Gross_Income#32, Rating#33]\n            +- Relation [Invoice_ID#17,Branch#18,City#19,Customer_Type#20,Gender#21,Product_Line#22,Unit_Price#23,Quantity#24,Tax_5%#25,Total#26,Date#27,Time#28,Payment#29,cogs#30,Gross_Margin_Percentage#31,Gross_Income#32,Rating#33] csv\n",
     "output_type": "error",
     "traceback": [
      "\u001b[31m---------------------------------------------------------------------------\u001b[39m",
      "\u001b[31mAnalysisException\u001b[39m                         Traceback (most recent call last)",
      "\u001b[36mCell\u001b[39m\u001b[36m \u001b[39m\u001b[32mIn[2]\u001b[39m\u001b[32m, line 27\u001b[39m\n\u001b[32m     24\u001b[39m df_avg_basket = df.agg(avg(\u001b[33m\"\u001b[39m\u001b[33mTotal\u001b[39m\u001b[33m\"\u001b[39m).alias(\u001b[33m\"\u001b[39m\u001b[33mAvg_Basket_Size\u001b[39m\u001b[33m\"\u001b[39m))\n\u001b[32m     26\u001b[39m \u001b[38;5;66;03m# Total Spending Per Customer Type & Gender\u001b[39;00m\n\u001b[32m---> \u001b[39m\u001b[32m27\u001b[39m df_customer_spend = \u001b[43mdf\u001b[49m\u001b[43m.\u001b[49m\u001b[43mgroupBy\u001b[49m\u001b[43m(\u001b[49m\u001b[33;43m\"\u001b[39;49m\u001b[33;43mCustomer type\u001b[39;49m\u001b[33;43m\"\u001b[39;49m\u001b[43m,\u001b[49m\u001b[43m \u001b[49m\u001b[33;43m\"\u001b[39;49m\u001b[33;43mGender\u001b[39;49m\u001b[33;43m\"\u001b[39;49m\u001b[43m)\u001b[49m\u001b[43m.\u001b[49m\u001b[43magg\u001b[49m\u001b[43m(\u001b[49m\u001b[38;5;28;43msum\u001b[39;49m\u001b[43m(\u001b[49m\u001b[33;43m\"\u001b[39;49m\u001b[33;43mTotal\u001b[39;49m\u001b[33;43m\"\u001b[39;49m\u001b[43m)\u001b[49m\u001b[43m.\u001b[49m\u001b[43malias\u001b[49m\u001b[43m(\u001b[49m\u001b[33;43m\"\u001b[39;49m\u001b[33;43mTotal_Spending\u001b[39;49m\u001b[33;43m\"\u001b[39;49m\u001b[43m)\u001b[49m\u001b[43m)\u001b[49m\n\u001b[32m     29\u001b[39m \u001b[38;5;66;03m# Preferred Payment Methods\u001b[39;00m\n\u001b[32m     30\u001b[39m df_payment_method = df.groupBy(\u001b[33m\"\u001b[39m\u001b[33mPayment\u001b[39m\u001b[33m\"\u001b[39m).agg(\u001b[38;5;28msum\u001b[39m(\u001b[33m\"\u001b[39m\u001b[33mTotal\u001b[39m\u001b[33m\"\u001b[39m).alias(\u001b[33m\"\u001b[39m\u001b[33mTotal_Spent\u001b[39m\u001b[33m\"\u001b[39m))\n",
      "\u001b[36mFile \u001b[39m\u001b[32m/Library/Frameworks/Python.framework/Versions/3.13/lib/python3.13/site-packages/pyspark/sql/group.py:186\u001b[39m, in \u001b[36mGroupedData.agg\u001b[39m\u001b[34m(self, *exprs)\u001b[39m\n\u001b[32m    184\u001b[39m     \u001b[38;5;28;01massert\u001b[39;00m \u001b[38;5;28mall\u001b[39m(\u001b[38;5;28misinstance\u001b[39m(c, Column) \u001b[38;5;28;01mfor\u001b[39;00m c \u001b[38;5;129;01min\u001b[39;00m exprs), \u001b[33m\"\u001b[39m\u001b[33mall exprs should be Column\u001b[39m\u001b[33m\"\u001b[39m\n\u001b[32m    185\u001b[39m     exprs = cast(Tuple[Column, ...], exprs)\n\u001b[32m--> \u001b[39m\u001b[32m186\u001b[39m     jdf = \u001b[38;5;28;43mself\u001b[39;49m\u001b[43m.\u001b[49m\u001b[43m_jgd\u001b[49m\u001b[43m.\u001b[49m\u001b[43magg\u001b[49m\u001b[43m(\u001b[49m\u001b[43mexprs\u001b[49m\u001b[43m[\u001b[49m\u001b[32;43m0\u001b[39;49m\u001b[43m]\u001b[49m\u001b[43m.\u001b[49m\u001b[43m_jc\u001b[49m\u001b[43m,\u001b[49m\u001b[43m \u001b[49m\u001b[43m_to_seq\u001b[49m\u001b[43m(\u001b[49m\u001b[38;5;28;43mself\u001b[39;49m\u001b[43m.\u001b[49m\u001b[43msession\u001b[49m\u001b[43m.\u001b[49m\u001b[43m_sc\u001b[49m\u001b[43m,\u001b[49m\u001b[43m \u001b[49m\u001b[43m[\u001b[49m\u001b[43mc\u001b[49m\u001b[43m.\u001b[49m\u001b[43m_jc\u001b[49m\u001b[43m \u001b[49m\u001b[38;5;28;43;01mfor\u001b[39;49;00m\u001b[43m \u001b[49m\u001b[43mc\u001b[49m\u001b[43m \u001b[49m\u001b[38;5;129;43;01min\u001b[39;49;00m\u001b[43m \u001b[49m\u001b[43mexprs\u001b[49m\u001b[43m[\u001b[49m\u001b[32;43m1\u001b[39;49m\u001b[43m:\u001b[49m\u001b[43m]\u001b[49m\u001b[43m]\u001b[49m\u001b[43m)\u001b[49m\u001b[43m)\u001b[49m\n\u001b[32m    187\u001b[39m \u001b[38;5;28;01mreturn\u001b[39;00m DataFrame(jdf, \u001b[38;5;28mself\u001b[39m.session)\n",
      "\u001b[36mFile \u001b[39m\u001b[32m/Library/Frameworks/Python.framework/Versions/3.13/lib/python3.13/site-packages/py4j/java_gateway.py:1322\u001b[39m, in \u001b[36mJavaMember.__call__\u001b[39m\u001b[34m(self, *args)\u001b[39m\n\u001b[32m   1316\u001b[39m command = proto.CALL_COMMAND_NAME +\\\n\u001b[32m   1317\u001b[39m     \u001b[38;5;28mself\u001b[39m.command_header +\\\n\u001b[32m   1318\u001b[39m     args_command +\\\n\u001b[32m   1319\u001b[39m     proto.END_COMMAND_PART\n\u001b[32m   1321\u001b[39m answer = \u001b[38;5;28mself\u001b[39m.gateway_client.send_command(command)\n\u001b[32m-> \u001b[39m\u001b[32m1322\u001b[39m return_value = \u001b[43mget_return_value\u001b[49m\u001b[43m(\u001b[49m\n\u001b[32m   1323\u001b[39m \u001b[43m    \u001b[49m\u001b[43manswer\u001b[49m\u001b[43m,\u001b[49m\u001b[43m \u001b[49m\u001b[38;5;28;43mself\u001b[39;49m\u001b[43m.\u001b[49m\u001b[43mgateway_client\u001b[49m\u001b[43m,\u001b[49m\u001b[43m \u001b[49m\u001b[38;5;28;43mself\u001b[39;49m\u001b[43m.\u001b[49m\u001b[43mtarget_id\u001b[49m\u001b[43m,\u001b[49m\u001b[43m \u001b[49m\u001b[38;5;28;43mself\u001b[39;49m\u001b[43m.\u001b[49m\u001b[43mname\u001b[49m\u001b[43m)\u001b[49m\n\u001b[32m   1325\u001b[39m \u001b[38;5;28;01mfor\u001b[39;00m temp_arg \u001b[38;5;129;01min\u001b[39;00m temp_args:\n\u001b[32m   1326\u001b[39m     \u001b[38;5;28;01mif\u001b[39;00m \u001b[38;5;28mhasattr\u001b[39m(temp_arg, \u001b[33m\"\u001b[39m\u001b[33m_detach\u001b[39m\u001b[33m\"\u001b[39m):\n",
      "\u001b[36mFile \u001b[39m\u001b[32m/Library/Frameworks/Python.framework/Versions/3.13/lib/python3.13/site-packages/pyspark/errors/exceptions/captured.py:185\u001b[39m, in \u001b[36mcapture_sql_exception.<locals>.deco\u001b[39m\u001b[34m(*a, **kw)\u001b[39m\n\u001b[32m    181\u001b[39m converted = convert_exception(e.java_exception)\n\u001b[32m    182\u001b[39m \u001b[38;5;28;01mif\u001b[39;00m \u001b[38;5;129;01mnot\u001b[39;00m \u001b[38;5;28misinstance\u001b[39m(converted, UnknownException):\n\u001b[32m    183\u001b[39m     \u001b[38;5;66;03m# Hide where the exception came from that shows a non-Pythonic\u001b[39;00m\n\u001b[32m    184\u001b[39m     \u001b[38;5;66;03m# JVM exception message.\u001b[39;00m\n\u001b[32m--> \u001b[39m\u001b[32m185\u001b[39m     \u001b[38;5;28;01mraise\u001b[39;00m converted \u001b[38;5;28;01mfrom\u001b[39;00m\u001b[38;5;250m \u001b[39m\u001b[38;5;28;01mNone\u001b[39;00m\n\u001b[32m    186\u001b[39m \u001b[38;5;28;01melse\u001b[39;00m:\n\u001b[32m    187\u001b[39m     \u001b[38;5;28;01mraise\u001b[39;00m\n",
      "\u001b[31mAnalysisException\u001b[39m: [UNRESOLVED_COLUMN.WITH_SUGGESTION] A column or function parameter with name `Customer type` cannot be resolved. Did you mean one of the following? [`Customer_Type`, `City`, `Payment`, `Quantity`, `Unit_Price`].;\n'Aggregate ['Customer type, Gender#21], ['Customer type, Gender#21, sum(Total#26) AS Total_Spending#192]\n+- Project [Invoice_ID#17, Branch#18, City#19, Customer_Type#20, Gender#21, Product_Line#22, Unit_Price#23, Quantity#24, Tax_5%#25, Total#26, Date#51, Time#70, Payment#29, cogs#30, Gross_Margin_Percentage#31, Gross_Income#32, Rating#33, Hour#88, dayofweek(Date#51) AS Day_of_Week#107]\n   +- Project [Invoice_ID#17, Branch#18, City#19, Customer_Type#20, Gender#21, Product_Line#22, Unit_Price#23, Quantity#24, Tax_5%#25, Total#26, Date#51, Time#70, Payment#29, cogs#30, Gross_Margin_Percentage#31, Gross_Income#32, Rating#33, hour(Time#70, Some(Europe/London)) AS Hour#88]\n      +- Project [Invoice_ID#17, Branch#18, City#19, Customer_Type#20, Gender#21, Product_Line#22, Unit_Price#23, Quantity#24, Tax_5%#25, Total#26, Date#51, to_timestamp(Time#28, Some(HH:mm), TimestampType, Some(Europe/London), false) AS Time#70, Payment#29, cogs#30, Gross_Margin_Percentage#31, Gross_Income#32, Rating#33]\n         +- Project [Invoice_ID#17, Branch#18, City#19, Customer_Type#20, Gender#21, Product_Line#22, Unit_Price#23, Quantity#24, Tax_5%#25, Total#26, to_date(Date#27, Some(M/d/yyyy), Some(Europe/London), false) AS Date#51, Time#28, Payment#29, cogs#30, Gross_Margin_Percentage#31, Gross_Income#32, Rating#33]\n            +- Relation [Invoice_ID#17,Branch#18,City#19,Customer_Type#20,Gender#21,Product_Line#22,Unit_Price#23,Quantity#24,Tax_5%#25,Total#26,Date#27,Time#28,Payment#29,cogs#30,Gross_Margin_Percentage#31,Gross_Income#32,Rating#33] csv\n"
     ]
    }
   ],
   "source": [
    "# entire code in single place\n",
    "from pyspark.sql import SparkSession\n",
    "from pyspark.sql.functions import col, to_date, hour, to_timestamp, sum, avg, dayofweek\n",
    "\n",
    "# Initialize Spark session\n",
    "spark = SparkSession.builder.appName(\"Sales Data Analysis\").getOrCreate()\n",
    "\n",
    "# File location and type\n",
    "file_location = \"/Users/inbravo/Documents/GitHub/python-feature-set/dataset/super-market/sales-less-record.csv\"\n",
    "df = spark.read.option(\"header\", True).option(\"inferSchema\", True).csv(file_location)\n",
    "\n",
    "# Data Cleaning\n",
    "df = df.withColumn(\"Date\", to_date(col(\"Date\"), \"M/d/yyyy\"))\n",
    "df = df.withColumn(\"Time\", to_timestamp(col(\"Time\"), \"HH:mm\"))\n",
    "df = df.withColumn(\"Hour\", hour(col(\"Time\")))\n",
    "df = df.withColumn(\"Day_of_Week\", dayofweek(col(\"Date\")))\n",
    "\n",
    "# Total Sales Per Branch\n",
    "df_branch_sales = df.groupBy(\"Branch\").agg(sum(\"Total\").alias(\"Total_Sales\"))\n",
    "\n",
    "# Average Basket Size (Avg Total per Transaction)\n",
    "df_avg_basket = df.agg(avg(\"Total\").alias(\"Avg_Basket_Size\"))\n",
    "\n",
    "# Total Spending Per Customer Type & Gender\n",
    "df_customer_spend = df.groupBy(\"Customer type\", \"Gender\").agg(sum(\"Total\").alias(\"Total_Spending\"))\n",
    "\n",
    "# Preferred Payment Methods\n",
    "df_payment_method = df.groupBy(\"Payment\").agg(sum(\"Total\").alias(\"Total_Spent\"))\n",
    "\n",
    "# Peak Sales Hours\n",
    "df_peak_hours = df.groupBy(\"Hour\").agg(sum(\"Total\").alias(\"Total_Sales\")).orderBy(col(\"Total_Sales\").desc())\n",
    "\n",
    "# Busiest Days of the Week\n",
    "df_busy_days = df.groupBy(\"Day_of_Week\").agg(sum(\"Total\").alias(\"Total_Sales\")).orderBy(col(\"Total_Sales\").desc())\n",
    "\n",
    "# Total Revenue & Profit per Branch\n",
    "df_branch_financials = df.groupBy(\"Branch\").agg(\n",
    "    sum(\"Total\").alias(\"Total_Revenue\"),\n",
    "    sum(\"gross income\").alias(\"Total_Profit\")\n",
    ")\n",
    "\n",
    "# Average Rating Per Product Line\n",
    "df_avg_rating = df.groupBy(\"Product line\").agg(avg(\"Rating\").alias(\"Avg_Rating\"))\n",
    "\n",
    "# Most Frequently Purchased Products\n",
    "df_top_products = df.groupBy(\"Product line\").agg(sum(\"Quantity\").alias(\"Total_Quantity\")).orderBy(col(\"Total_Quantity\").desc())\n",
    "\n",
    "# Showing Results, We can do the same with display for visualization\n",
    "df_branch_sales.show()\n",
    "df_avg_basket.show()\n",
    "df_customer_spend.show()\n",
    "df_payment_method.show()\n",
    "df_peak_hours.show()\n",
    "df_busy_days.show()\n",
    "df_branch_financials.show()\n",
    "df_avg_rating.show()\n",
    "df_top_products.show()"
   ]
  }
 ],
 "metadata": {
  "kernelspec": {
   "display_name": "Python 3",
   "language": "python",
   "name": "python3"
  },
  "language_info": {
   "codemirror_mode": {
    "name": "ipython",
    "version": 3
   },
   "file_extension": ".py",
   "mimetype": "text/x-python",
   "name": "python",
   "nbconvert_exporter": "python",
   "pygments_lexer": "ipython3",
   "version": "3.13.2"
  }
 },
 "nbformat": 4,
 "nbformat_minor": 2
}
