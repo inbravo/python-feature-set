{
 "cells": [
  {
   "cell_type": "code",
   "execution_count": 1,
   "metadata": {},
   "outputs": [
    {
     "name": "stderr",
     "output_type": "stream",
     "text": [
      "Setting default log level to \"WARN\".\n",
      "To adjust logging level use sc.setLogLevel(newLevel). For SparkR, use setLogLevel(newLevel).\n",
      "25/05/10 18:55:52 WARN NativeCodeLoader: Unable to load native-hadoop library for your platform... using builtin-java classes where applicable\n",
      "                                                                                \r"
     ]
    },
    {
     "name": "stdout",
     "output_type": "stream",
     "text": [
      "+-----------+------+---------+-------------+------+--------------------+----------+--------+-------+--------+---------+-------------------+-----------+------+-----------------------+------------+------+\n",
      "| Invoice_ID|Branch|     City|Customer_Type|Gender|        Product_Line|Unit_Price|Quantity| Tax_5%|   Total|     Date|               Time|    Payment|  cogs|Gross_Margin_Percentage|Gross_Income|Rating|\n",
      "+-----------+------+---------+-------------+------+--------------------+----------+--------+-------+--------+---------+-------------------+-----------+------+-----------------------+------------+------+\n",
      "|750-67-8428|     A|   Yangon|       Member|Female|   Health and beauty|     74.69|       7|26.1415|548.9715| 1/5/2019|2025-05-10 13:08:00|    Ewallet|522.83|            4.761904762|     26.1415|   9.1|\n",
      "|226-31-3081|     C|Naypyitaw|       Normal|Female|Electronic access...|     15.28|       5|   3.82|   80.22| 3/8/2019|2025-05-10 10:29:00|       Cash|  76.4|            4.761904762|        3.82|   9.6|\n",
      "|631-41-3108|     A|   Yangon|       Normal|  Male|  Home and lifestyle|     46.33|       7|16.2155|340.5255| 3/3/2019|2025-05-10 13:23:00|Credit card|324.31|            4.761904762|     16.2155|   7.4|\n",
      "|233-67-5758|     C|Naypyitaw|       Normal|  Male|   Health and beauty|     40.35|       1| 2.0175| 42.3675|1/29/2019|2025-05-10 13:46:00|    Ewallet| 40.35|            4.761904762|      2.0175|   6.2|\n",
      "|303-96-2227|     B| Mandalay|       Normal|Female|  Home and lifestyle|     97.38|      10|  48.69| 1022.49| 3/2/2019|2025-05-10 17:16:00|    Ewallet| 973.8|            4.761904762|       48.69|   4.4|\n",
      "+-----------+------+---------+-------------+------+--------------------+----------+--------+-------+--------+---------+-------------------+-----------+------+-----------------------+------------+------+\n",
      "only showing top 5 rows\n",
      "\n"
     ]
    }
   ],
   "source": [
    "from pyspark.sql import SparkSession\n",
    "\n",
    "# Initialize Spark session\n",
    "spark = SparkSession.builder.appName(\"Sales Data Analysis\").getOrCreate()\n",
    "\n",
    "# File location and type\n",
    "file_location = \"/Users/inbravo/Documents/GitHub/python-feature-set/dataset/super-market/sales-less-record.csv\"\n",
    "\n",
    "# Read the CSV data from the file\n",
    "df = spark.read.format(\"csv\") \\\n",
    "  .option(\"inferSchema\", True) \\\n",
    "  .option(\"header\", True) \\\n",
    "  .option(\"sep\", \",\") \\\n",
    "  .load(file_location)\n",
    "\n",
    "# Show the first 5 rows of the DataFrame\n",
    "df.show(5)"
   ]
  },
  {
   "cell_type": "code",
   "execution_count": 2,
   "metadata": {},
   "outputs": [
    {
     "name": "stdout",
     "output_type": "stream",
     "text": [
      "+--------------------+-----------------+\n",
      "|        Product_Line|sum(Gross_Income)|\n",
      "+--------------------+-----------------+\n",
      "|  Home and lifestyle|               67|\n",
      "| Fashion accessories|               30|\n",
      "|   Health and beauty|               28|\n",
      "|Electronic access...|                3|\n",
      "|  Food and beverages|                1|\n",
      "+--------------------+-----------------+\n",
      "\n"
     ]
    }
   ],
   "source": [
    "from pyspark.sql.functions import round\n",
    "from pyspark.sql.functions import sum as _sum\n",
    "from pyspark.sql.types import IntegerType\n",
    "   \n",
    "# Typecast the 'Gross income' values to Integer type    \n",
    "df = df.withColumn(\"Gross_Income\", df[\"Gross_Income\"].cast(IntegerType()))\n",
    "\n",
    "# Round gross income to 2 decimal places\n",
    "df = df.withColumn(\"Gross_Income\", round(df[\"Gross_Income\"], 2))\n",
    "\n",
    "# Group by the \"Product line\"\n",
    "df = df.groupBy(\"Product_Line\")\n",
    "\n",
    "# Sum of the gross income\n",
    "gross_income_sum = _sum(\"Gross_Income\")\n",
    "\n",
    "# Sum the gross income\n",
    "df_round = df.agg(gross_income_sum).alias(\"Gross_Income\")\n",
    "\n",
    "# Show the first 5 rows of the DataFrame\n",
    "df_round.show(5)"
   ]
  }
 ],
 "metadata": {
  "kernelspec": {
   "display_name": "Python 3",
   "language": "python",
   "name": "python3"
  },
  "language_info": {
   "codemirror_mode": {
    "name": "ipython",
    "version": 3
   },
   "file_extension": ".py",
   "mimetype": "text/x-python",
   "name": "python",
   "nbconvert_exporter": "python",
   "pygments_lexer": "ipython3",
   "version": "3.13.2"
  }
 },
 "nbformat": 4,
 "nbformat_minor": 2
}
