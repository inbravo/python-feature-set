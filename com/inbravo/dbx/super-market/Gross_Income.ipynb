{
 "cells": [
  {
   "cell_type": "code",
   "execution_count": 1,
   "metadata": {},
   "outputs": [
    {
     "name": "stderr",
     "output_type": "stream",
     "text": [
      "Setting default log level to \"WARN\".\n",
      "To adjust logging level use sc.setLogLevel(newLevel). For SparkR, use setLogLevel(newLevel).\n",
      "25/05/31 01:12:08 WARN NativeCodeLoader: Unable to load native-hadoop library for your platform... using builtin-java classes where applicable\n",
      "25/05/31 01:12:08 WARN Utils: Service 'SparkUI' could not bind on port 4040. Attempting port 4041.\n",
      "                                                                                \r"
     ]
    },
    {
     "name": "stdout",
     "output_type": "stream",
     "text": [
      "+-----------+------+---------+-------------+------+--------------------+----------+--------+-------+--------+---------+-------------------+-----------+------+-----------------------+------------+------+\n",
      "| Invoice_ID|Branch|     City|Customer_Type|Gender|        Product_Line|Unit_Price|Quantity| Tax_5%|   Total|     Date|               Time|    Payment|  cogs|gross Margin_Percentage|Gross_Income|Rating|\n",
      "+-----------+------+---------+-------------+------+--------------------+----------+--------+-------+--------+---------+-------------------+-----------+------+-----------------------+------------+------+\n",
      "|750-67-8428|     A|   Yangon|       Member|Female|   Health and beauty|     74.69|       7|26.1415|548.9715| 1/5/2019|2025-05-31 13:08:00|    Ewallet|522.83|            4.761904762|     26.1415|   9.1|\n",
      "|226-31-3081|     C|Naypyitaw|       Normal|Female|Electronic access...|     15.28|       5|   3.82|   80.22| 3/8/2019|2025-05-31 10:29:00|       Cash|  76.4|            4.761904762|        3.82|   9.6|\n",
      "|631-41-3108|     A|   Yangon|       Normal|  Male|  Home and lifestyle|     46.33|       7|16.2155|340.5255| 3/3/2019|2025-05-31 13:23:00|Credit card|324.31|            4.761904762|     16.2155|   7.4|\n",
      "|123-19-1176|     A|   Yangon|       Member|  Male|   Health and beauty|     58.22|       8| 23.288| 489.048|1/27/2019|2025-05-31 20:33:00|    Ewallet|465.76|            4.761904762|      23.288|   8.4|\n",
      "|373-73-7910|     A|   Yangon|       Normal|  Male|   Sports and travel|     86.31|       7|30.2085|634.3785| 2/8/2019|2025-05-31 10:37:00|    Ewallet|604.17|            4.761904762|     30.2085|   5.3|\n",
      "+-----------+------+---------+-------------+------+--------------------+----------+--------+-------+--------+---------+-------------------+-----------+------+-----------------------+------------+------+\n",
      "only showing top 5 rows\n",
      "\n"
     ]
    }
   ],
   "source": [
    "from pyspark.sql import SparkSession\n",
    "\n",
    "# Initialize Spark session\n",
    "spark = SparkSession.builder.appName(\"Sales Data Analysis\").getOrCreate()\n",
    "\n",
    "# File location and type\n",
    "file_location = \"/Users/inbravo/Documents/GitHub/python-feature-set/dataset/super-market/sales.csv\"\n",
    "\n",
    "# Read the CSV data from the file\n",
    "df = spark.read.format(\"csv\") \\\n",
    "  .option(\"inferSchema\", True) \\\n",
    "  .option(\"header\", True) \\\n",
    "  .option(\"sep\", \",\") \\\n",
    "  .load(file_location)\n",
    "\n",
    "# Show the first 5 rows of the DataFrame\n",
    "df.show(5)"
   ]
  },
  {
   "cell_type": "code",
   "execution_count": 2,
   "metadata": {},
   "outputs": [
    {
     "name": "stderr",
     "output_type": "stream",
     "text": [
      "[Stage 3:>                                                          (0 + 1) / 1]\r"
     ]
    },
    {
     "name": "stdout",
     "output_type": "stream",
     "text": [
      "+--------------------+-----------------+\n",
      "|        Product_Line|sum(Gross_Income)|\n",
      "+--------------------+-----------------+\n",
      "|  Home and lifestyle|             2484|\n",
      "| Fashion accessories|             2491|\n",
      "|   Health and beauty|             2263|\n",
      "|Electronic access...|             2500|\n",
      "|  Food and beverages|             2584|\n",
      "+--------------------+-----------------+\n",
      "only showing top 5 rows\n",
      "\n"
     ]
    },
    {
     "name": "stderr",
     "output_type": "stream",
     "text": [
      "                                                                                \r"
     ]
    }
   ],
   "source": [
    "from pyspark.sql.functions import round\n",
    "from pyspark.sql.functions import sum as _sum\n",
    "from pyspark.sql.types import IntegerType\n",
    "   \n",
    "# Typecast the 'Gross income' values to Integer type    \n",
    "df = df.withColumn(\"Gross_Income\", df[\"Gross_Income\"].cast(IntegerType()))\n",
    "\n",
    "# Round gross income to 2 decimal places\n",
    "df = df.withColumn(\"Gross_Income\", round(df[\"Gross_Income\"], 2))\n",
    "\n",
    "# Group by the \"Product line\"\n",
    "df = df.groupBy(\"Product_Line\")\n",
    "\n",
    "# Sum of the gross income\n",
    "gross_income_sum = _sum(\"Gross_Income\")\n",
    "\n",
    "# Sum the gross income\n",
    "df_round = df.agg(gross_income_sum).alias(\"Gross_Income\")\n",
    "\n",
    "# Show the first 5 rows of the DataFrame\n",
    "df_round.show(5)"
   ]
  }
 ],
 "metadata": {
  "kernelspec": {
   "display_name": "Python 3",
   "language": "python",
   "name": "python3"
  },
  "language_info": {
   "codemirror_mode": {
    "name": "ipython",
    "version": 3
   },
   "file_extension": ".py",
   "mimetype": "text/x-python",
   "name": "python",
   "nbconvert_exporter": "python",
   "pygments_lexer": "ipython3",
   "version": "3.13.2"
  }
 },
 "nbformat": 4,
 "nbformat_minor": 4
}
