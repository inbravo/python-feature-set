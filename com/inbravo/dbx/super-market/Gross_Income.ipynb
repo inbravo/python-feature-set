{
 "cells": [
  {
   "cell_type": "code",
   "execution_count": 1,
   "metadata": {},
   "outputs": [
    {
     "ename": "ModuleNotFoundError",
     "evalue": "No module named 'pyspark'",
     "output_type": "error",
     "traceback": [
      "\u001b[31m---------------------------------------------------------------------------\u001b[39m",
      "\u001b[31mModuleNotFoundError\u001b[39m                       Traceback (most recent call last)",
      "\u001b[36mCell\u001b[39m\u001b[36m \u001b[39m\u001b[32mIn[1]\u001b[39m\u001b[32m, line 1\u001b[39m\n\u001b[32m----> \u001b[39m\u001b[32m1\u001b[39m \u001b[38;5;28;01mfrom\u001b[39;00m\u001b[38;5;250m \u001b[39m\u001b[34;01mpyspark\u001b[39;00m\u001b[34;01m.\u001b[39;00m\u001b[34;01msql\u001b[39;00m\u001b[38;5;250m \u001b[39m\u001b[38;5;28;01mimport\u001b[39;00m SparkSession\n\u001b[32m      3\u001b[39m \u001b[38;5;66;03m# Initialize Spark session\u001b[39;00m\n\u001b[32m      4\u001b[39m spark = SparkSession.builder.appName(\u001b[33m\"\u001b[39m\u001b[33mSales Data Analysis\u001b[39m\u001b[33m\"\u001b[39m).getOrCreate()\n",
      "\u001b[31mModuleNotFoundError\u001b[39m: No module named 'pyspark'"
     ]
    }
   ],
   "source": [
    "from pyspark.sql import SparkSession\n",
    "\n",
    "# Initialize Spark session\n",
    "spark = SparkSession.builder.appName(\"Sales Data Analysis\").getOrCreate()\n",
    "\n",
    "# File location and type\n",
    "file_location = \"/Users/inbravo/Documents/GitHub/python-feature-set/dataset/super-market/sales-less-record.csv\"\n",
    "\n",
    "# Read the CSV data from the file\n",
    "df = spark.read.format(\"csv\") \\\n",
    "  .option(\"inferSchema\", True) \\\n",
    "  .option(\"header\", True) \\\n",
    "  .option(\"sep\", \",\") \\\n",
    "  .load(file_location)\n",
    "\n",
    "# Show the first 5 rows of the DataFrame\n",
    "df.show(5)"
   ]
  },
  {
   "cell_type": "code",
   "execution_count": null,
   "metadata": {},
   "outputs": [],
   "source": [
    "from pyspark.sql.functions import round\n",
    "from pyspark.sql.functions import sum as _sum\n",
    "from pyspark.sql.types import IntegerType\n",
    "   \n",
    "# Typecast the 'Gross income' values to Integer type    \n",
    "df = df.withColumn(\"Gross_Income\", df[\"Gross_Income\"].cast(IntegerType()))\n",
    "\n",
    "# Round gross income to 2 decimal places\n",
    "df = df.withColumn(\"Gross_Income\", round(df[\"Gross_Income\"], 2))\n",
    "\n",
    "# Group by the \"Product line\"\n",
    "df = df.groupBy(\"Product_Line\")\n",
    "\n",
    "# Sum of the gross income\n",
    "gross_income_sum = _sum(\"Gross_Income\")\n",
    "\n",
    "# Sum the gross income\n",
    "df_round = df.agg(gross_income_sum).alias(\"Gross_Income\")\n",
    "\n",
    "# Show the first 5 rows of the DataFrame\n",
    "df_round.show(5)"
   ]
  },
  {
   "cell_type": "code",
   "execution_count": null,
   "metadata": {},
   "outputs": [],
   "source": [
    "from pyspark.sql.functions import round\n",
    "from pyspark.sql.functions import sum as _sum\n",
    "from pyspark.sql.types import IntegerType\n",
    "\n",
    "grouped_df=df.groupBy(\"Product_line\").agg(_sum(\"Gross_Income\").alias(\"Total_Gross\"))   #checking to see what type of products yeilds more income\n",
    "df_round = grouped_df.withColumn(\"Rounded_Total_Sales\", round(grouped_df[\"Total_Gross\"], 2))\n",
    "display(df_round)"
   ]
  },
  {
   "cell_type": "code",
   "execution_count": null,
   "metadata": {},
   "outputs": [],
   "source": [
    "# entire code in single place\n",
    "from pyspark.sql import SparkSession\n",
    "from pyspark.sql.functions import col, to_date, hour, to_timestamp, sum, avg, dayofweek\n",
    "\n",
    "# Initialize Spark Session (if not already created in Databricks)\n",
    "spark = SparkSession.builder.appName(\"SupermarketSalesETL\").getOrCreate()\n",
    "\n",
    "# Load the dataset from DBFS\n",
    "file_path = \"/FileStore/tables/supermarket_sales___Sheet1-1.csv\"\n",
    "df = spark.read.option(\"header\", True).option(\"inferSchema\", True).csv(file_path)\n",
    "\n",
    "# 1️⃣ Data Cleaning\n",
    "df = df.withColumn(\"Date\", to_date(col(\"Date\"), \"M/d/yyyy\"))\n",
    "df = df.withColumn(\"Time\", to_timestamp(col(\"Time\"), \"HH:mm\"))\n",
    "df = df.withColumn(\"Hour\", hour(col(\"Time\")))\n",
    "df = df.withColumn(\"Day_of_Week\", dayofweek(col(\"Date\")))\n",
    "\n",
    "# 2️⃣ Feature Engineering & Aggregations\n",
    "\n",
    "# Total Sales Per Branch\n",
    "df_branch_sales = df.groupBy(\"Branch\").agg(sum(\"Total\").alias(\"Total_Sales\"))\n",
    "\n",
    "# Average Basket Size (Avg Total per Transaction)\n",
    "df_avg_basket = df.agg(avg(\"Total\").alias(\"Avg_Basket_Size\"))\n",
    "\n",
    "# Total Spending Per Customer Type & Gender\n",
    "df_customer_spend = df.groupBy(\"Customer type\", \"Gender\").agg(sum(\"Total\").alias(\"Total_Spending\"))\n",
    "\n",
    "# Preferred Payment Methods\n",
    "df_payment_method = df.groupBy(\"Payment\").agg(sum(\"Total\").alias(\"Total_Spent\"))\n",
    "\n",
    "# Peak Sales Hours\n",
    "df_peak_hours = df.groupBy(\"Hour\").agg(sum(\"Total\").alias(\"Total_Sales\")).orderBy(col(\"Total_Sales\").desc())\n",
    "\n",
    "# Busiest Days of the Week\n",
    "df_busy_days = df.groupBy(\"Day_of_Week\").agg(sum(\"Total\").alias(\"Total_Sales\")).orderBy(col(\"Total_Sales\").desc())\n",
    "\n",
    "# Total Revenue & Profit per Branch\n",
    "df_branch_financials = df.groupBy(\"Branch\").agg(\n",
    "    sum(\"Total\").alias(\"Total_Revenue\"),\n",
    "    sum(\"gross income\").alias(\"Total_Profit\")\n",
    ")\n",
    "\n",
    "# Average Rating Per Product Line\n",
    "df_avg_rating = df.groupBy(\"Product line\").agg(avg(\"Rating\").alias(\"Avg_Rating\"))\n",
    "\n",
    "# Most Frequently Purchased Products\n",
    "df_top_products = df.groupBy(\"Product line\").agg(sum(\"Quantity\").alias(\"Total_Quantity\")).orderBy(col(\"Total_Quantity\").desc())\n",
    "\n",
    "# Showing Results, We can do the same with display for visualization\n",
    "df_branch_sales.show()\n",
    "df_avg_basket.show()\n",
    "df_customer_spend.show()\n",
    "df_payment_method.show()\n",
    "df_peak_hours.show()\n",
    "df_busy_days.show()\n",
    "df_branch_financials.show()\n",
    "df_avg_rating.show()\n",
    "df_top_products.show()"
   ]
  }
 ],
 "metadata": {
  "kernelspec": {
   "display_name": "Python 3 (ipykernel)",
   "language": "python",
   "name": "python3"
  },
  "language_info": {
   "codemirror_mode": {
    "name": "ipython",
    "version": 3
   },
   "file_extension": ".py",
   "mimetype": "text/x-python",
   "name": "python",
   "nbconvert_exporter": "python",
   "pygments_lexer": "ipython3",
   "version": "3.12.9"
  }
 },
 "nbformat": 4,
 "nbformat_minor": 4
}
