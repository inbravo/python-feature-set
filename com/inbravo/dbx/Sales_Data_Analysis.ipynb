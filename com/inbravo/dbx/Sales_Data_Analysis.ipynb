{
 "cells": [
  {
   "cell_type": "code",
   "execution_count": 8,
   "metadata": {},
   "outputs": [
    {
     "data": {
      "text/plain": [
       "DataFrame[Invoice_ID: string, Branch: string, City: string, Customer_Type: string, Gender: string, Product_Line: string, Unit_Price: double, Quantity: int, Tax_5%: double, Total: double, Date: string, Time: timestamp, Payment: string, cogs: double, Gross_Margin_Percentage: double, Gross_Income: double, Rating: double]"
      ]
     },
     "metadata": {},
     "output_type": "display_data"
    },
    {
     "name": "stdout",
     "output_type": "stream",
     "text": [
      "root\n",
      " |-- Invoice_ID: string (nullable = true)\n",
      " |-- Branch: string (nullable = true)\n",
      " |-- City: string (nullable = true)\n",
      " |-- Customer_Type: string (nullable = true)\n",
      " |-- Gender: string (nullable = true)\n",
      " |-- Product_Line: string (nullable = true)\n",
      " |-- Unit_Price: double (nullable = true)\n",
      " |-- Quantity: integer (nullable = true)\n",
      " |-- Tax_5%: double (nullable = true)\n",
      " |-- Total: double (nullable = true)\n",
      " |-- Date: string (nullable = true)\n",
      " |-- Time: timestamp (nullable = true)\n",
      " |-- Payment: string (nullable = true)\n",
      " |-- cogs: double (nullable = true)\n",
      " |-- Gross_Margin_Percentage: double (nullable = true)\n",
      " |-- Gross_Income: double (nullable = true)\n",
      " |-- Rating: double (nullable = true)\n",
      "\n",
      "Health and beauty 26.1415\n",
      "Electronic accessories 3.82\n",
      "Home and lifestyle 16.2155\n",
      "Health and beauty 2.0175\n",
      "Home and lifestyle 48.69\n",
      "Food and beverages 1.592\n",
      "Home and lifestyle 3.291\n",
      "Fashion accessories 30.919\n"
     ]
    }
   ],
   "source": [
    "from pyspark.sql import SparkSession\n",
    "\n",
    "# Initialize Spark session\n",
    "spark = SparkSession.builder.appName(\"Sales Data Analysis\").getOrCreate()\n",
    "\n",
    "# File location and type\n",
    "file_location = \"/Users/inbravo/Documents/GitHub/python-feature-set/dataset/super-market/super-market-sales-less-record.csv\"\n",
    "\n",
    "# The applied options are for CSV files. For other file types, these will be ignored.\n",
    "df = spark.read.format(\"csv\") \\\n",
    "  .option(\"inferSchema\", True) \\\n",
    "  .option(\"header\", True) \\\n",
    "  .option(\"sep\", \",\") \\\n",
    "  .load(file_location)\n",
    "\n",
    "display(df)\n",
    "df.printSchema()\n",
    "# display(df.schema.names)\n",
    "# Iterate over the elements of the array column\n",
    "for row in df.collect():\n",
    "    print(row.Product_Line, row.Gross_Income)"
   ]
  },
  {
   "cell_type": "code",
   "execution_count": 9,
   "metadata": {},
   "outputs": [
    {
     "name": "stdout",
     "output_type": "stream",
     "text": [
      "Column<'sum(Gross_Income)'>\n"
     ]
    }
   ],
   "source": [
    "from pyspark.sql.functions import round\n",
    "from pyspark.sql.functions import sum as _sum\n",
    "from pyspark.sql.types import IntegerType\n",
    "   \n",
    "# Typecast the 'Gross income' values to Integer type    \n",
    "df = df.withColumn(\"Gross_Income\", df[\"Gross_Income\"].cast(IntegerType()))\n",
    "\n",
    "# Round gross income to 2 decimal places\n",
    "df = df.withColumn(\"Gross_Income\", round(df[\"Gross_Income\"], 2))\n",
    "\n",
    "# Group by the \"Product line\"\n",
    "df = df.groupBy(\"Product_Line\")\n",
    "\n",
    "# Sum of the gross income\n",
    "gross_income_sum = _sum(\"Gross_Income\")\n",
    "print(gross_income_sum)\n",
    "\n",
    "# Sum the gross income\n",
    "df = df.agg(gross_income_sum).alias(\"Gross_Income\")"
   ]
  },
  {
   "cell_type": "code",
   "execution_count": null,
   "metadata": {},
   "outputs": [
    {
     "ename": "AnalysisException",
     "evalue": "[UNRESOLVED_COLUMN.WITH_SUGGESTION] A column or function parameter with name `Gross_Income` cannot be resolved. Did you mean one of the following? [`sum(Gross_Income)`, `Product_Line`].;\n'Aggregate [Product_line#356], [Product_line#356, sum('Gross_Income) AS Total_Gross#467]\n+- SubqueryAlias Gross_Income\n   +- Aggregate [Product_Line#356], [Product_Line#356, sum(Gross_Income#421) AS sum(Gross_Income)#457L]\n      +- Project [Invoice_ID#351, Branch#352, City#353, Customer_Type#354, Gender#355, Product_Line#356, Unit_Price#357, Quantity#358, Tax_5%#359, Total#360, Date#361, Time#362, Payment#363, cogs#364, Gross_Margin_Percentage#365, round(Gross_Income#402, 2) AS Gross_Income#421, Rating#367]\n         +- Project [Invoice_ID#351, Branch#352, City#353, Customer_Type#354, Gender#355, Product_Line#356, Unit_Price#357, Quantity#358, Tax_5%#359, Total#360, Date#361, Time#362, Payment#363, cogs#364, Gross_Margin_Percentage#365, cast(Gross_Income#366 as int) AS Gross_Income#402, Rating#367]\n            +- Relation [Invoice_ID#351,Branch#352,City#353,Customer_Type#354,Gender#355,Product_Line#356,Unit_Price#357,Quantity#358,Tax_5%#359,Total#360,Date#361,Time#362,Payment#363,cogs#364,Gross_Margin_Percentage#365,Gross_Income#366,Rating#367] csv\n",
     "output_type": "error",
     "traceback": [
      "\u001b[31m---------------------------------------------------------------------------\u001b[39m",
      "\u001b[31mAnalysisException\u001b[39m                         Traceback (most recent call last)",
      "\u001b[36mCell\u001b[39m\u001b[36m \u001b[39m\u001b[32mIn[11]\u001b[39m\u001b[32m, line 5\u001b[39m\n\u001b[32m      2\u001b[39m \u001b[38;5;28;01mfrom\u001b[39;00m\u001b[38;5;250m \u001b[39m\u001b[34;01mpyspark\u001b[39;00m\u001b[34;01m.\u001b[39;00m\u001b[34;01msql\u001b[39;00m\u001b[34;01m.\u001b[39;00m\u001b[34;01mfunctions\u001b[39;00m\u001b[38;5;250m \u001b[39m\u001b[38;5;28;01mimport\u001b[39;00m \u001b[38;5;28msum\u001b[39m \u001b[38;5;28;01mas\u001b[39;00m _sum\n\u001b[32m      3\u001b[39m \u001b[38;5;28;01mfrom\u001b[39;00m\u001b[38;5;250m \u001b[39m\u001b[34;01mpyspark\u001b[39;00m\u001b[34;01m.\u001b[39;00m\u001b[34;01msql\u001b[39;00m\u001b[34;01m.\u001b[39;00m\u001b[34;01mtypes\u001b[39;00m\u001b[38;5;250m \u001b[39m\u001b[38;5;28;01mimport\u001b[39;00m IntegerType\n\u001b[32m----> \u001b[39m\u001b[32m5\u001b[39m grouped_df=\u001b[43mdf\u001b[49m\u001b[43m.\u001b[49m\u001b[43mgroupBy\u001b[49m\u001b[43m(\u001b[49m\u001b[33;43m\"\u001b[39;49m\u001b[33;43mProduct_line\u001b[39;49m\u001b[33;43m\"\u001b[39;49m\u001b[43m)\u001b[49m\u001b[43m.\u001b[49m\u001b[43magg\u001b[49m\u001b[43m(\u001b[49m\u001b[43m_sum\u001b[49m\u001b[43m(\u001b[49m\u001b[33;43m\"\u001b[39;49m\u001b[33;43mGross_Income\u001b[39;49m\u001b[33;43m\"\u001b[39;49m\u001b[43m)\u001b[49m\u001b[43m.\u001b[49m\u001b[43malias\u001b[49m\u001b[43m(\u001b[49m\u001b[33;43m\"\u001b[39;49m\u001b[33;43mTotal_Gross\u001b[39;49m\u001b[33;43m\"\u001b[39;49m\u001b[43m)\u001b[49m\u001b[43m)\u001b[49m   \u001b[38;5;66;03m#checking to see what type of products yeilds more income\u001b[39;00m\n",
      "\u001b[36mFile \u001b[39m\u001b[32m/Library/Frameworks/Python.framework/Versions/3.13/lib/python3.13/site-packages/pyspark/sql/group.py:186\u001b[39m, in \u001b[36mGroupedData.agg\u001b[39m\u001b[34m(self, *exprs)\u001b[39m\n\u001b[32m    184\u001b[39m     \u001b[38;5;28;01massert\u001b[39;00m \u001b[38;5;28mall\u001b[39m(\u001b[38;5;28misinstance\u001b[39m(c, Column) \u001b[38;5;28;01mfor\u001b[39;00m c \u001b[38;5;129;01min\u001b[39;00m exprs), \u001b[33m\"\u001b[39m\u001b[33mall exprs should be Column\u001b[39m\u001b[33m\"\u001b[39m\n\u001b[32m    185\u001b[39m     exprs = cast(Tuple[Column, ...], exprs)\n\u001b[32m--> \u001b[39m\u001b[32m186\u001b[39m     jdf = \u001b[38;5;28;43mself\u001b[39;49m\u001b[43m.\u001b[49m\u001b[43m_jgd\u001b[49m\u001b[43m.\u001b[49m\u001b[43magg\u001b[49m\u001b[43m(\u001b[49m\u001b[43mexprs\u001b[49m\u001b[43m[\u001b[49m\u001b[32;43m0\u001b[39;49m\u001b[43m]\u001b[49m\u001b[43m.\u001b[49m\u001b[43m_jc\u001b[49m\u001b[43m,\u001b[49m\u001b[43m \u001b[49m\u001b[43m_to_seq\u001b[49m\u001b[43m(\u001b[49m\u001b[38;5;28;43mself\u001b[39;49m\u001b[43m.\u001b[49m\u001b[43msession\u001b[49m\u001b[43m.\u001b[49m\u001b[43m_sc\u001b[49m\u001b[43m,\u001b[49m\u001b[43m \u001b[49m\u001b[43m[\u001b[49m\u001b[43mc\u001b[49m\u001b[43m.\u001b[49m\u001b[43m_jc\u001b[49m\u001b[43m \u001b[49m\u001b[38;5;28;43;01mfor\u001b[39;49;00m\u001b[43m \u001b[49m\u001b[43mc\u001b[49m\u001b[43m \u001b[49m\u001b[38;5;129;43;01min\u001b[39;49;00m\u001b[43m \u001b[49m\u001b[43mexprs\u001b[49m\u001b[43m[\u001b[49m\u001b[32;43m1\u001b[39;49m\u001b[43m:\u001b[49m\u001b[43m]\u001b[49m\u001b[43m]\u001b[49m\u001b[43m)\u001b[49m\u001b[43m)\u001b[49m\n\u001b[32m    187\u001b[39m \u001b[38;5;28;01mreturn\u001b[39;00m DataFrame(jdf, \u001b[38;5;28mself\u001b[39m.session)\n",
      "\u001b[36mFile \u001b[39m\u001b[32m/Library/Frameworks/Python.framework/Versions/3.13/lib/python3.13/site-packages/py4j/java_gateway.py:1322\u001b[39m, in \u001b[36mJavaMember.__call__\u001b[39m\u001b[34m(self, *args)\u001b[39m\n\u001b[32m   1316\u001b[39m command = proto.CALL_COMMAND_NAME +\\\n\u001b[32m   1317\u001b[39m     \u001b[38;5;28mself\u001b[39m.command_header +\\\n\u001b[32m   1318\u001b[39m     args_command +\\\n\u001b[32m   1319\u001b[39m     proto.END_COMMAND_PART\n\u001b[32m   1321\u001b[39m answer = \u001b[38;5;28mself\u001b[39m.gateway_client.send_command(command)\n\u001b[32m-> \u001b[39m\u001b[32m1322\u001b[39m return_value = \u001b[43mget_return_value\u001b[49m\u001b[43m(\u001b[49m\n\u001b[32m   1323\u001b[39m \u001b[43m    \u001b[49m\u001b[43manswer\u001b[49m\u001b[43m,\u001b[49m\u001b[43m \u001b[49m\u001b[38;5;28;43mself\u001b[39;49m\u001b[43m.\u001b[49m\u001b[43mgateway_client\u001b[49m\u001b[43m,\u001b[49m\u001b[43m \u001b[49m\u001b[38;5;28;43mself\u001b[39;49m\u001b[43m.\u001b[49m\u001b[43mtarget_id\u001b[49m\u001b[43m,\u001b[49m\u001b[43m \u001b[49m\u001b[38;5;28;43mself\u001b[39;49m\u001b[43m.\u001b[49m\u001b[43mname\u001b[49m\u001b[43m)\u001b[49m\n\u001b[32m   1325\u001b[39m \u001b[38;5;28;01mfor\u001b[39;00m temp_arg \u001b[38;5;129;01min\u001b[39;00m temp_args:\n\u001b[32m   1326\u001b[39m     \u001b[38;5;28;01mif\u001b[39;00m \u001b[38;5;28mhasattr\u001b[39m(temp_arg, \u001b[33m\"\u001b[39m\u001b[33m_detach\u001b[39m\u001b[33m\"\u001b[39m):\n",
      "\u001b[36mFile \u001b[39m\u001b[32m/Library/Frameworks/Python.framework/Versions/3.13/lib/python3.13/site-packages/pyspark/errors/exceptions/captured.py:185\u001b[39m, in \u001b[36mcapture_sql_exception.<locals>.deco\u001b[39m\u001b[34m(*a, **kw)\u001b[39m\n\u001b[32m    181\u001b[39m converted = convert_exception(e.java_exception)\n\u001b[32m    182\u001b[39m \u001b[38;5;28;01mif\u001b[39;00m \u001b[38;5;129;01mnot\u001b[39;00m \u001b[38;5;28misinstance\u001b[39m(converted, UnknownException):\n\u001b[32m    183\u001b[39m     \u001b[38;5;66;03m# Hide where the exception came from that shows a non-Pythonic\u001b[39;00m\n\u001b[32m    184\u001b[39m     \u001b[38;5;66;03m# JVM exception message.\u001b[39;00m\n\u001b[32m--> \u001b[39m\u001b[32m185\u001b[39m     \u001b[38;5;28;01mraise\u001b[39;00m converted \u001b[38;5;28;01mfrom\u001b[39;00m\u001b[38;5;250m \u001b[39m\u001b[38;5;28;01mNone\u001b[39;00m\n\u001b[32m    186\u001b[39m \u001b[38;5;28;01melse\u001b[39;00m:\n\u001b[32m    187\u001b[39m     \u001b[38;5;28;01mraise\u001b[39;00m\n",
      "\u001b[31mAnalysisException\u001b[39m: [UNRESOLVED_COLUMN.WITH_SUGGESTION] A column or function parameter with name `Gross_Income` cannot be resolved. Did you mean one of the following? [`sum(Gross_Income)`, `Product_Line`].;\n'Aggregate [Product_line#356], [Product_line#356, sum('Gross_Income) AS Total_Gross#467]\n+- SubqueryAlias Gross_Income\n   +- Aggregate [Product_Line#356], [Product_Line#356, sum(Gross_Income#421) AS sum(Gross_Income)#457L]\n      +- Project [Invoice_ID#351, Branch#352, City#353, Customer_Type#354, Gender#355, Product_Line#356, Unit_Price#357, Quantity#358, Tax_5%#359, Total#360, Date#361, Time#362, Payment#363, cogs#364, Gross_Margin_Percentage#365, round(Gross_Income#402, 2) AS Gross_Income#421, Rating#367]\n         +- Project [Invoice_ID#351, Branch#352, City#353, Customer_Type#354, Gender#355, Product_Line#356, Unit_Price#357, Quantity#358, Tax_5%#359, Total#360, Date#361, Time#362, Payment#363, cogs#364, Gross_Margin_Percentage#365, cast(Gross_Income#366 as int) AS Gross_Income#402, Rating#367]\n            +- Relation [Invoice_ID#351,Branch#352,City#353,Customer_Type#354,Gender#355,Product_Line#356,Unit_Price#357,Quantity#358,Tax_5%#359,Total#360,Date#361,Time#362,Payment#363,cogs#364,Gross_Margin_Percentage#365,Gross_Income#366,Rating#367] csv\n"
     ]
    }
   ],
   "source": [
    "from pyspark.sql.functions import round\n",
    "from pyspark.sql.functions import sum as _sum\n",
    "from pyspark.sql.types import IntegerType\n",
    "\n",
    "grouped_df=df.groupBy(\"Product_line\").agg(_sum(\"Gross_Income\").alias(\"Total_Gross\"))   #checking to see what type of products yeilds more income\n",
    "df_round = grouped_df.withColumn(\"Rounded_Total_Sales\", round(grouped_df[\"Total_Gross\"], 2))\n",
    "display(df_round)"
   ]
  },
  {
   "cell_type": "code",
   "execution_count": null,
   "metadata": {},
   "outputs": [],
   "source": [
    "# entire code in single place\n",
    "from pyspark.sql import SparkSession\n",
    "from pyspark.sql.functions import col, to_date, hour, to_timestamp, sum, avg, dayofweek\n",
    "\n",
    "# Initialize Spark Session (if not already created in Databricks)\n",
    "spark = SparkSession.builder.appName(\"SupermarketSalesETL\").getOrCreate()\n",
    "\n",
    "# Load the dataset from DBFS\n",
    "file_path = \"/FileStore/tables/supermarket_sales___Sheet1-1.csv\"\n",
    "df = spark.read.option(\"header\", True).option(\"inferSchema\", True).csv(file_path)\n",
    "\n",
    "# 1️⃣ Data Cleaning\n",
    "df = df.withColumn(\"Date\", to_date(col(\"Date\"), \"M/d/yyyy\"))\n",
    "df = df.withColumn(\"Time\", to_timestamp(col(\"Time\"), \"HH:mm\"))\n",
    "df = df.withColumn(\"Hour\", hour(col(\"Time\")))\n",
    "df = df.withColumn(\"Day_of_Week\", dayofweek(col(\"Date\")))\n",
    "\n",
    "# 2️⃣ Feature Engineering & Aggregations\n",
    "\n",
    "# Total Sales Per Branch\n",
    "df_branch_sales = df.groupBy(\"Branch\").agg(sum(\"Total\").alias(\"Total_Sales\"))\n",
    "\n",
    "# Average Basket Size (Avg Total per Transaction)\n",
    "df_avg_basket = df.agg(avg(\"Total\").alias(\"Avg_Basket_Size\"))\n",
    "\n",
    "# Total Spending Per Customer Type & Gender\n",
    "df_customer_spend = df.groupBy(\"Customer type\", \"Gender\").agg(sum(\"Total\").alias(\"Total_Spending\"))\n",
    "\n",
    "# Preferred Payment Methods\n",
    "df_payment_method = df.groupBy(\"Payment\").agg(sum(\"Total\").alias(\"Total_Spent\"))\n",
    "\n",
    "# Peak Sales Hours\n",
    "df_peak_hours = df.groupBy(\"Hour\").agg(sum(\"Total\").alias(\"Total_Sales\")).orderBy(col(\"Total_Sales\").desc())\n",
    "\n",
    "# Busiest Days of the Week\n",
    "df_busy_days = df.groupBy(\"Day_of_Week\").agg(sum(\"Total\").alias(\"Total_Sales\")).orderBy(col(\"Total_Sales\").desc())\n",
    "\n",
    "# Total Revenue & Profit per Branch\n",
    "df_branch_financials = df.groupBy(\"Branch\").agg(\n",
    "    sum(\"Total\").alias(\"Total_Revenue\"),\n",
    "    sum(\"gross income\").alias(\"Total_Profit\")\n",
    ")\n",
    "\n",
    "# Average Rating Per Product Line\n",
    "df_avg_rating = df.groupBy(\"Product line\").agg(avg(\"Rating\").alias(\"Avg_Rating\"))\n",
    "\n",
    "# Most Frequently Purchased Products\n",
    "df_top_products = df.groupBy(\"Product line\").agg(sum(\"Quantity\").alias(\"Total_Quantity\")).orderBy(col(\"Total_Quantity\").desc())\n",
    "\n",
    "# Showing Results, We can do the same with display for visualization\n",
    "df_branch_sales.show()\n",
    "df_avg_basket.show()\n",
    "df_customer_spend.show()\n",
    "df_payment_method.show()\n",
    "df_peak_hours.show()\n",
    "df_busy_days.show()\n",
    "df_branch_financials.show()\n",
    "df_avg_rating.show()\n",
    "df_top_products.show()"
   ]
  }
 ],
 "metadata": {
  "kernelspec": {
   "display_name": "Python 3",
   "language": "python",
   "name": "python3"
  },
  "language_info": {
   "codemirror_mode": {
    "name": "ipython",
    "version": 3
   },
   "file_extension": ".py",
   "mimetype": "text/x-python",
   "name": "python",
   "nbconvert_exporter": "python",
   "pygments_lexer": "ipython3",
   "version": "3.13.2"
  }
 },
 "nbformat": 4,
 "nbformat_minor": 2
}
